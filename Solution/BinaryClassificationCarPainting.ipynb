{
 "cells": [
  {
   "cell_type": "markdown",
   "id": "402c3966",
   "metadata": {},
   "source": [
    "# Tarea - Clasificacion Binaria de Pinturas para Auto"
   ]
  },
  {
   "cell_type": "code",
   "execution_count": 2,
   "id": "57438d21",
   "metadata": {},
   "outputs": [
    {
     "name": "stdout",
     "output_type": "stream",
     "text": [
      "load c:\\Users\\pablo\\anaconda3\\envs\\master_ucm_machine_learning\\Lib\\site-packages\\ortools\\.libs\\zlib1.dll...\n",
      "load c:\\Users\\pablo\\anaconda3\\envs\\master_ucm_machine_learning\\Lib\\site-packages\\ortools\\.libs\\abseil_dll.dll...\n",
      "load c:\\Users\\pablo\\anaconda3\\envs\\master_ucm_machine_learning\\Lib\\site-packages\\ortools\\.libs\\utf8_validity.dll...\n",
      "load c:\\Users\\pablo\\anaconda3\\envs\\master_ucm_machine_learning\\Lib\\site-packages\\ortools\\.libs\\re2.dll...\n",
      "load c:\\Users\\pablo\\anaconda3\\envs\\master_ucm_machine_learning\\Lib\\site-packages\\ortools\\.libs\\libprotobuf.dll...\n",
      "load c:\\Users\\pablo\\anaconda3\\envs\\master_ucm_machine_learning\\Lib\\site-packages\\ortools\\.libs\\highs.dll...\n",
      "load c:\\Users\\pablo\\anaconda3\\envs\\master_ucm_machine_learning\\Lib\\site-packages\\ortools\\.libs\\ortools.dll...\n",
      "(CVXPY) Apr 17 04:25:20 PM: Encountered unexpected exception importing solver GLOP:\n",
      "RuntimeError('Unrecognized new version of ortools (9.12.4544). Expected < 9.12.0. Please open a feature request on cvxpy to enable support for this version.')\n",
      "(CVXPY) Apr 17 04:25:20 PM: Encountered unexpected exception importing solver PDLP:\n",
      "RuntimeError('Unrecognized new version of ortools (9.12.4544). Expected < 9.12.0. Please open a feature request on cvxpy to enable support for this version.')\n"
     ]
    }
   ],
   "source": [
    "import random\n",
    "import numpy as np\n",
    "import pandas as pd\n",
    "import warnings\n",
    "\n",
    "from sklearn.model_selection import train_test_split\n",
    "from sklearn.preprocessing import MinMaxScaler\n",
    "from optbinning import BinningProcess\n",
    "from optbinning import OptimalBinning"
   ]
  },
  {
   "cell_type": "markdown",
   "id": "0b092d06",
   "metadata": {},
   "source": [
    "## 1 - Importación y Depuración de Datos"
   ]
  },
  {
   "cell_type": "markdown",
   "id": "5a12de3f",
   "metadata": {},
   "source": [
    "Importamos el conjunto de datos y lo depuramos aplicando 3 transformaciones al mismo\n",
    "\n",
    "1. Tipos de datos: asignamos los tipos de datos a cada variables. A Airbags la vamos a tratar como categóricas por tener saltos no continuos para que pueda capturar no linealidades posibles a futuro.\n",
    "\n",
    "2. Datos missings: imputamos a los datos missings de variables categóricas la moda y a los de variables numéricas la media\n",
    "\n",
    "3. Estandarización: estandarizamos las variables tratadas como continuas usando la técnica a escala entre 0 y 1.\n",
    "\n",
    "4. Dummies en Categóricas: agregamos columnas dummys para los n-1 valores posibles de cada variable categórica"
   ]
  },
  {
   "cell_type": "code",
   "execution_count": 13,
   "id": "7a0949d4",
   "metadata": {},
   "outputs": [],
   "source": [
    "bronze_data = pd.read_excel('../Statement/datos_tarea25.xlsx')\n",
    "\n",
    "silver_data = bronze_data.copy()  # Crear una copia del dataset original\n"
   ]
  },
  {
   "cell_type": "code",
   "execution_count": 14,
   "id": "106f0e20",
   "metadata": {},
   "outputs": [],
   "source": [
    "silver_data['Color'] = silver_data['Color'].map({'White': 1, 'Black': 0})"
   ]
  },
  {
   "cell_type": "code",
   "execution_count": 15,
   "id": "407866d7",
   "metadata": {},
   "outputs": [],
   "source": [
    "warnings.filterwarnings(\"ignore\", category=FutureWarning)\n",
    "\n",
    "# Reemplazar \"-\" por NaN y convertir a numérico\n",
    "silver_data['Levy'] = silver_data['Levy'].replace(\"-\", np.nan)\n",
    "silver_data['Levy'] = pd.to_numeric(silver_data['Levy'], errors='coerce')\n",
    "\n",
    "# Excluir valores nulos de Levy para el binning\n",
    "non_null_data = silver_data[silver_data['Levy'].notnull()]\n",
    "\n",
    "# Configurar el proceso de binning con el criterio de Information Value (IV)\n",
    "binning_process = BinningProcess(\n",
    "    variable_names=['Levy'],\n",
    "    selection_criteria={\"iv\": {\"min\": 0.02}},\n",
    "    max_n_bins=5  # Máximo número de bins permitido\n",
    ")\n",
    "\n",
    "# Ajustar el binning process a los datos no nulos\n",
    "binning_process.fit(non_null_data[['Levy']], non_null_data['Color'])\n",
    "\n",
    "# Obtener los puntos de corte (splits)\n",
    "levy_binned = binning_process.get_binned_variable('Levy')\n",
    "binning_table = levy_binned.binning_table\n",
    "binning_table.build()\n",
    "levy_splits = binning_table.splits\n",
    "\n",
    "# Crear etiquetas personalizadas para los tramos\n",
    "levy_bins_labels = [f\"{float(lower)} - {float(upper)}\" for lower, upper in zip([-float('inf')] + list(levy_splits), list(levy_splits) + [float('inf')])]\n",
    "\n",
    "# Asignar las etiquetas personalizadas a los tramos\n",
    "silver_data['Levy_bins'] = pd.cut(\n",
    "    silver_data['Levy'],\n",
    "    bins=[-float('inf')] + list(levy_splits) + [float('inf')],\n",
    "    labels=levy_bins_labels,\n",
    "    right=False\n",
    ")\n",
    "\n",
    "# Añadir un tramo específico para los valores nulos\n",
    "silver_data['Levy_bins'] = silver_data['Levy_bins'].cat.add_categories(\"Missing\")\n",
    "silver_data['Levy_bins'].fillna(\"Missing\", inplace=True)\n",
    "silver_data = silver_data.drop(columns=['Levy'])"
   ]
  },
  {
   "cell_type": "code",
   "execution_count": 16,
   "id": "06f24b81",
   "metadata": {},
   "outputs": [],
   "source": [
    "# Convertir las columnas a sus tipos de datos correctos\n",
    "silver_data['Mileage'] = silver_data['Mileage'].str.replace(' km', '').str.replace(',', '').astype(float)  # Convertir Mileage a numérico\n",
    "silver_data['Engine volume'] = silver_data['Engine volume'].str.replace(' Turbo', '').astype(float)  # Convertir Engine volume a numérico\n",
    "silver_data['Prod. year'] = silver_data['Prod. year'].astype(int)  # Asegurar que Prod. year sea entero\n"
   ]
  },
  {
   "cell_type": "code",
   "execution_count": 17,
   "id": "5dc8fe8b",
   "metadata": {},
   "outputs": [],
   "source": [
    "silver_data['Prod. year'] = pd.to_numeric(silver_data['Prod. year'], errors='coerce')\n",
    "non_null_data = silver_data[silver_data['Prod. year'].notnull()]\n",
    "\n",
    "# Crear tramos manuales para 'Prod. year'\n",
    "manual_bins = [1943, 2000, 2004, 2008, 2012, 2016, 2020]\n",
    "manual_labels = ['1943-2000', '2001-2004', '2005-2008', '2009-2012', '2013-2016', '2017-2020']\n",
    "\n",
    "# Asignar los tramos manuales a la columna 'Prod. year'\n",
    "silver_data['Prod. year_bins'] = pd.cut(\n",
    "    silver_data['Prod. year'],\n",
    "    bins=manual_bins,\n",
    "    labels=manual_labels,\n",
    "    right=True\n",
    ")"
   ]
  },
  {
   "cell_type": "code",
   "execution_count": 18,
   "id": "6aa0eb1a",
   "metadata": {},
   "outputs": [],
   "source": [
    "for column in silver_data.columns:\n",
    "    if silver_data[column].dtype == 'object':  # Imputar moda para variables categóricas\n",
    "        silver_data[column].fillna(silver_data[column].mode()[0], inplace=True)\n",
    "    elif silver_data[column].dtype in ['int64', 'float64']:  # Imputar promedio para variables numéricas\n",
    "        silver_data[column].fillna(silver_data[column].mean(), inplace=True)"
   ]
  },
  {
   "cell_type": "code",
   "execution_count": 20,
   "id": "381af790",
   "metadata": {},
   "outputs": [],
   "source": [
    "# 2. Crear columnas dummys para variables categóricas\n",
    "\n",
    "silver_data = pd.get_dummies(silver_data, columns=silver_data.drop(columns=['Color']).select_dtypes(include=['object']).columns, drop_first=True)"
   ]
  },
  {
   "cell_type": "code",
   "execution_count": 21,
   "id": "07436423",
   "metadata": {},
   "outputs": [],
   "source": [
    "# 3. Estandarizar variables continuas a escala [0, 1]\n",
    "scaler = MinMaxScaler()\n",
    "numerical_columns = silver_data.select_dtypes(include=['int64', 'float64']).columns\n",
    "silver_data[numerical_columns] = scaler.fit_transform(silver_data[numerical_columns])"
   ]
  },
  {
   "cell_type": "markdown",
   "id": "4bb82075",
   "metadata": {},
   "source": [
    "Dividimos los conjuntos de datos para train y test usando una semilla de aleatoriedad prefijada"
   ]
  },
  {
   "cell_type": "code",
   "execution_count": 22,
   "id": "515bde2d",
   "metadata": {},
   "outputs": [
    {
     "name": "stdout",
     "output_type": "stream",
     "text": [
      "Variables explicativas:  ['Price', 'Levy', 'Prod. year', 'Engine volume', 'Mileage', 'Cylinders', 'Airbags', 'Manufacturer_LEXUS', 'Manufacturer_MERCEDES-BENZ', 'Manufacturer_TOYOTA', 'Category_Jeep', 'Category_Sedan', 'Leather interior_Yes', 'Fuel type_Hybrid', 'Fuel type_Petrol', 'Gear box type_Tiptronic', 'Drive wheels_Front', 'Drive wheels_Rear', 'Wheel_Right-hand drive']\n",
      "Variable objetivo:  Color\n"
     ]
    }
   ],
   "source": [
    "Y = silver_data['Color'] \n",
    "X = silver_data.drop(columns=['Color'])\n",
    "print(\"Variables explicativas: \", list(X.columns))\n",
    "print(\"Variable objetivo: \", Y.name)\n",
    "\n",
    "SEED = 12345\n",
    "random.seed(SEED)\n",
    "np.random.seed(SEED)\n",
    "X_train, X_test, y_train, y_test = train_test_split(X, Y, test_size=0.25, random_state=SEED)"
   ]
  },
  {
   "cell_type": "markdown",
   "id": "530f33f6",
   "metadata": {},
   "source": [
    "## 2 - Modelización con maquina de vector soporte"
   ]
  }
 ],
 "metadata": {
  "kernelspec": {
   "display_name": "master_ucm_machine_learning",
   "language": "python",
   "name": "python3"
  },
  "language_info": {
   "codemirror_mode": {
    "name": "ipython",
    "version": 3
   },
   "file_extension": ".py",
   "mimetype": "text/x-python",
   "name": "python",
   "nbconvert_exporter": "python",
   "pygments_lexer": "ipython3",
   "version": "3.13.3"
  }
 },
 "nbformat": 4,
 "nbformat_minor": 5
}
