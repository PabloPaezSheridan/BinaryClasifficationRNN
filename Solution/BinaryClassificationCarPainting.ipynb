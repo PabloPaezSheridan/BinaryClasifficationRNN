{
 "cells": [
  {
   "cell_type": "markdown",
   "id": "402c3966",
   "metadata": {},
   "source": [
    "# Tarea - Clasificacion Binaria de Pinturas para Auto"
   ]
  },
  {
   "cell_type": "code",
   "execution_count": 14,
   "id": "57438d21",
   "metadata": {},
   "outputs": [],
   "source": [
    "import random\n",
    "import numpy as np\n",
    "import pandas as pd\n",
    "\n",
    "from sklearn.model_selection import train_test_split\n",
    "from sklearn.preprocessing import MinMaxScaler"
   ]
  },
  {
   "cell_type": "markdown",
   "id": "0b092d06",
   "metadata": {},
   "source": [
    "## 1 - Importación y Depuración de Datos"
   ]
  },
  {
   "cell_type": "markdown",
   "id": "5a12de3f",
   "metadata": {},
   "source": [
    "Importamos el conjunto de datos y lo depuramos aplicando 3 transformaciones al mismo\n",
    "\n",
    "1. Tipos de datos: asignamos los tipos de datos a cada variables. A Airbags la vamos a tratar como categóricas por tener saltos no continuos para que pueda capturar no linealidades posibles a futuro.\n",
    "\n",
    "2. Datos missings: imputamos a los datos missings de variables categóricas la moda y a los de variables numéricas la media\n",
    "\n",
    "3. Estandarización: estandarizamos las variables tratadas como continuas usando la técnica a escala entre 0 y 1.\n",
    "\n",
    "4. Dummies en Categóricas: agregamos columnas dummys para los n-1 valores posibles de cada variable categórica"
   ]
  },
  {
   "cell_type": "code",
   "execution_count": 19,
   "id": "7a0949d4",
   "metadata": {},
   "outputs": [
    {
     "name": "stderr",
     "output_type": "stream",
     "text": [
      "C:\\Users\\pablo\\AppData\\Local\\Temp\\ipykernel_16868\\2743137420.py:16: FutureWarning: A value is trying to be set on a copy of a DataFrame or Series through chained assignment using an inplace method.\n",
      "The behavior will change in pandas 3.0. This inplace method will never work because the intermediate object on which we are setting values always behaves as a copy.\n",
      "\n",
      "For example, when doing 'df[col].method(value, inplace=True)', try using 'df.method({col: value}, inplace=True)' or df[col] = df[col].method(value) instead, to perform the operation inplace on the original object.\n",
      "\n",
      "\n",
      "  silver_data[column].fillna(silver_data[column].mean(), inplace=True)\n",
      "C:\\Users\\pablo\\AppData\\Local\\Temp\\ipykernel_16868\\2743137420.py:14: FutureWarning: A value is trying to be set on a copy of a DataFrame or Series through chained assignment using an inplace method.\n",
      "The behavior will change in pandas 3.0. This inplace method will never work because the intermediate object on which we are setting values always behaves as a copy.\n",
      "\n",
      "For example, when doing 'df[col].method(value, inplace=True)', try using 'df.method({col: value}, inplace=True)' or df[col] = df[col].method(value) instead, to perform the operation inplace on the original object.\n",
      "\n",
      "\n",
      "  silver_data[column].fillna(silver_data[column].mode()[0], inplace=True)\n"
     ]
    }
   ],
   "source": [
    "bronze_data = pd.read_excel('../Statement/datos_tarea25.xlsx')\n",
    "\n",
    "silver_data = bronze_data.copy()  # Crear una copia del dataset original\n",
    "\n",
    "# 1. Manejar missing en otras columnas\n",
    "# Convertir las columnas a sus tipos de datos correctos\n",
    "silver_data['Levy'] = pd.to_numeric(silver_data['Levy'], errors='coerce')  # Convertir Levy a numérico\n",
    "silver_data['Mileage'] = silver_data['Mileage'].str.replace(' km', '').str.replace(',', '').astype(float)  # Convertir Mileage a numérico\n",
    "silver_data['Engine volume'] = silver_data['Engine volume'].str.replace(' Turbo', '').astype(float)  # Convertir Engine volume a numérico\n",
    "silver_data['Prod. year'] = silver_data['Prod. year'].astype(int)  # Asegurar que Prod. year sea entero\n",
    "\n",
    "for column in silver_data.columns:\n",
    "    if silver_data[column].dtype == 'object':  # Imputar moda para variables categóricas\n",
    "        silver_data[column].fillna(silver_data[column].mode()[0], inplace=True)\n",
    "    elif silver_data[column].dtype in ['int64', 'float64']:  # Imputar promedio para variables numéricas\n",
    "        silver_data[column].fillna(silver_data[column].mean(), inplace=True)\n",
    "\n",
    "# 2. Crear columnas dummys para variables categóricas\n",
    "\n",
    "silver_data = pd.get_dummies(silver_data, columns=silver_data.drop(columns=['Color']).select_dtypes(include=['object']).columns, drop_first=True)\n",
    "\n",
    "# 3. Estandarizar variables continuas a escala [0, 1]\n",
    "scaler = MinMaxScaler()\n",
    "numerical_columns = silver_data.select_dtypes(include=['int64', 'float64']).columns\n",
    "silver_data[numerical_columns] = scaler.fit_transform(silver_data[numerical_columns])\n"
   ]
  },
  {
   "cell_type": "markdown",
   "id": "4bb82075",
   "metadata": {},
   "source": [
    "Dividimos los conjuntos de datos para train y test usando una semilla de aleatoriedad prefijada"
   ]
  },
  {
   "cell_type": "code",
   "execution_count": 22,
   "id": "515bde2d",
   "metadata": {},
   "outputs": [
    {
     "name": "stdout",
     "output_type": "stream",
     "text": [
      "Variables explicativas:  ['Price', 'Levy', 'Prod. year', 'Engine volume', 'Mileage', 'Cylinders', 'Airbags', 'Manufacturer_LEXUS', 'Manufacturer_MERCEDES-BENZ', 'Manufacturer_TOYOTA', 'Category_Jeep', 'Category_Sedan', 'Leather interior_Yes', 'Fuel type_Hybrid', 'Fuel type_Petrol', 'Gear box type_Tiptronic', 'Drive wheels_Front', 'Drive wheels_Rear', 'Wheel_Right-hand drive']\n",
      "Variable objetivo:  Color\n"
     ]
    }
   ],
   "source": [
    "Y = silver_data['Color'] \n",
    "X = silver_data.drop(columns=['Color'])\n",
    "print(\"Variables explicativas: \", list(X.columns))\n",
    "print(\"Variable objetivo: \", Y.name)\n",
    "\n",
    "SEED = 12345\n",
    "random.seed(SEED)\n",
    "np.random.seed(SEED)\n",
    "X_train, X_test, y_train, y_test = train_test_split(X, Y, test_size=0.25, random_state=SEED)"
   ]
  }
 ],
 "metadata": {
  "kernelspec": {
   "display_name": "master_ucm_machine_learning",
   "language": "python",
   "name": "python3"
  },
  "language_info": {
   "codemirror_mode": {
    "name": "ipython",
    "version": 3
   },
   "file_extension": ".py",
   "mimetype": "text/x-python",
   "name": "python",
   "nbconvert_exporter": "python",
   "pygments_lexer": "ipython3",
   "version": "3.13.3"
  }
 },
 "nbformat": 4,
 "nbformat_minor": 5
}
