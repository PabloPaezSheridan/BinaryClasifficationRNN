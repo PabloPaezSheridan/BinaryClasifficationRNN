{
 "cells": [
  {
   "cell_type": "markdown",
   "id": "402c3966",
   "metadata": {},
   "source": [
    "# Tarea - Clasificacion Binaria de Pinturas para Auto"
   ]
  },
  {
   "cell_type": "code",
   "execution_count": 172,
   "id": "57438d21",
   "metadata": {},
   "outputs": [],
   "source": [
    "import random\n",
    "import numpy as np\n",
    "import pandas as pd\n",
    "import warnings\n",
    "import matplotlib.pyplot as plt\n",
    "\n",
    "from sklearn.metrics import roc_curve\n",
    "from sklearn.model_selection import train_test_split\n",
    "from sklearn.preprocessing import MinMaxScaler\n",
    "from optbinning import BinningProcess\n",
    "from sklearn.svm import SVC\n",
    "from sklearn.metrics import classification_report, accuracy_score, roc_auc_score\n",
    "from sklearn.ensemble import BaggingClassifier"
   ]
  },
  {
   "cell_type": "markdown",
   "id": "0b092d06",
   "metadata": {},
   "source": [
    "## 1 - Importación y Depuración de Datos"
   ]
  },
  {
   "cell_type": "code",
   "execution_count": 151,
   "id": "7a0949d4",
   "metadata": {},
   "outputs": [],
   "source": [
    "bronze_data = pd.read_excel('../Statement/datos_tarea25.xlsx')\n",
    "\n",
    "silver_data = bronze_data.copy()  # Crear una copia del dataset original\n"
   ]
  },
  {
   "cell_type": "markdown",
   "id": "bec58e02",
   "metadata": {},
   "source": [
    "### Binarizacion de variable objetivo\n",
    "\n",
    "con el fin de manejar solo valores binarios en la variable objetivo definimos como 1 a White y 0 a Black"
   ]
  },
  {
   "cell_type": "code",
   "execution_count": 152,
   "id": "106f0e20",
   "metadata": {},
   "outputs": [],
   "source": [
    "silver_data['Color'] = silver_data['Color'].map({'White': 1, 'Black': 0})"
   ]
  },
  {
   "cell_type": "markdown",
   "id": "9afd6405",
   "metadata": {},
   "source": [
    "### Eliminar variables no representativas\n",
    "\n",
    "El conjunto de datos no presenta variables identificadoras para eliminar pero la variable Wheel cuenta con solo dos valores de los cuales uno se lleva el 98% de las observaciones. Las RNN y espcialmente el algoritmo de maquinas de vector soporte es muy delicado a clases mal representadas por lo que eliminamos la propiedad 'Wheel' del conjunto de datos"
   ]
  },
  {
   "cell_type": "code",
   "execution_count": 153,
   "id": "8ca58486",
   "metadata": {},
   "outputs": [],
   "source": [
    "silver_data = silver_data.drop(columns=['Wheel'])"
   ]
  },
  {
   "cell_type": "markdown",
   "id": "10bbb7c8",
   "metadata": {},
   "source": [
    "### Definir tipo de datos\n",
    "\n",
    "para cambiar las variables a el tipo de datos correcto en algunos casos tenemos que hacer algunas transformaciones sencillas. \n",
    "1. Para el caso de Mileage sacamos el sufijo 'km' de las observaciones \n",
    "2. Para el caso de 'Engine Volume' la transforme a numérica sacando la palabra 'Turbo' de done existe para poder lograr la conversion a tipo de dato numérico. Si bien es cierto que esta decision conlleva a una perdida de información la variable consta de 59 tipos de valores lo que conlleva a que ella clases mal representadas a un enorme gasto computacional porque, de ser categóricas, se transformaría en 58 variables dummys.\n",
    "3. Para el caso de Airbags: la transformamos a categórica porque son solo 12 tipos de observaciones distintas y presentan saltos no lineales debido a que el aumento de los aibags suele estar relacionado con carecteristicas no lineales como el numero de pasajeros o las posiciones que se quieren asegurar\n",
    "4. Para el caso de Leather Interior: la mapeamos como binaria ya que sus valores eran si o no. "
   ]
  },
  {
   "cell_type": "code",
   "execution_count": 154,
   "id": "06f24b81",
   "metadata": {},
   "outputs": [],
   "source": [
    "# Convertir las columnas a sus tipos de datos correctos\n",
    "silver_data['Mileage'] = silver_data['Mileage'].str.replace(' km', '').str.replace(',', '').astype(float)  # Convertir Mileage a numérico\n",
    "silver_data['Engine volume'] = silver_data['Engine volume'].str.replace(' Turbo', '').astype(float)  # Convertir Engine volume a numérico\n",
    "silver_data['Airbags'] = silver_data['Airbags'].astype('category')\n",
    "silver_data['Leather interior'] = silver_data['Leather interior'].map({'Yes': 1, 'No': 0})"
   ]
  },
  {
   "cell_type": "markdown",
   "id": "e00b6f99",
   "metadata": {},
   "source": [
    "Para el caso de la variable Levy decidimos tramificar debido a que hay pocas clases que concentran la mayoría de las observaciones y la gran cantidad de datos perdidos.\n",
    "\n",
    "Para poder definir los tramos que mejor separen las observaciones en base a la variable objetivo 'Color'. El indice que utilizamos es el 'Information Value' usando como criterio un valor mínimo de 0.02 de información por cada tramo y un máximo de 5 tramos. \n",
    "\n",
    "Debido a que esta variable presentaba un 15% de datos perdidos decidimos añadir una sexta categoría que represente a todos los datos perdidos de manera que podamos captar la información que quizás la ausencia de valor para esa variable puede significar"
   ]
  },
  {
   "attachments": {
    "image.png": {
     "image/png": "[encoded data removed]"
    }
   },
   "cell_type": "markdown",
   "id": "8bb947b5",
   "metadata": {},
   "source": [
    "![image.png](attachment:image.png)"
   ]
  },
  {
   "cell_type": "code",
   "execution_count": 16,
   "id": "06f24b81",
   "metadata": {},
   "outputs": [],
   "source": [
    "# Convertir las columnas a sus tipos de datos correctos\n",
    "silver_data['Mileage'] = silver_data['Mileage'].str.replace(' km', '').str.replace(',', '').astype(float)  # Convertir Mileage a numérico\n",
    "silver_data['Engine volume'] = silver_data['Engine volume'].str.replace(' Turbo', '').astype(float)  # Convertir Engine volume a numérico\n",
    "silver_data['Prod. year'] = silver_data['Prod. year'].astype(int)  # Asegurar que Prod. year sea entero\n"
   ]
  },
  {
   "cell_type": "code",
   "execution_count": 155,
   "id": "407866d7",
   "metadata": {},
   "outputs": [],
   "source": [
    "warnings.filterwarnings(\"ignore\", category=FutureWarning)\n",
    "\n",
    "# Reemplazar \"-\" por NaN y convertir a numérico\n",
    "silver_data['Levy'] = silver_data['Levy'].replace(\"-\", np.nan)\n",
    "silver_data['Levy'] = pd.to_numeric(silver_data['Levy'], errors='coerce')\n",
    "\n",
    "# Excluir valores nulos de Levy para el binning\n",
    "non_null_data = silver_data[silver_data['Levy'].notnull()]\n",
    "\n",
    "# Configurar el proceso de binning con el criterio de Information Value (IV)\n",
    "binning_process = BinningProcess(\n",
    "    variable_names=['Levy'],\n",
    "    selection_criteria={\"iv\": {\"min\": 0.02}},\n",
    "    max_n_bins=5  # Máximo número de bins permitido\n",
    ")\n",
    "\n",
    "# Ajustar el binning process a los datos no nulos\n",
    "binning_process.fit(non_null_data[['Levy']], non_null_data['Color'])\n",
    "\n",
    "# Obtener los puntos de corte (splits)\n",
    "levy_binned = binning_process.get_binned_variable('Levy')\n",
    "binning_table = levy_binned.binning_table\n",
    "binning_table.build()\n",
    "levy_splits = binning_table.splits\n",
    "\n",
    "# Crear etiquetas personalizadas para los tramos\n",
    "levy_bins_labels = [f\"{float(lower)} - {float(upper)}\" for lower, upper in zip([-float('inf')] + list(levy_splits), list(levy_splits) + [float('inf')])]\n",
    "\n",
    "# Asignar las etiquetas personalizadas a los tramos\n",
    "silver_data['Levy_bins'] = pd.cut(\n",
    "    silver_data['Levy'],\n",
    "    bins=[-float('inf')] + list(levy_splits) + [float('inf')],\n",
    "    labels=levy_bins_labels,\n",
    "    right=False\n",
    ")\n",
    "\n",
    "# Añadir un tramo específico para los valores nulos\n",
    "silver_data['Levy_bins'] = silver_data['Levy_bins'].cat.add_categories(\"Missing\")\n",
    "silver_data['Levy_bins'].fillna(\"Missing\", inplace=True)\n",
    "silver_data = silver_data.drop(columns=['Levy'])"
   ]
  },
  {
   "cell_type": "markdown",
   "id": "0cc3aedc",
   "metadata": {},
   "source": [
    "Para el caso de la variable 'Prod. year' quisimos también hacer una tramificación usando el Information value como criterio para encontrar los puntos de corte optimo pero después de mucho intentar parece haber un problema insalvable con los datos de la variable para poder ser tratados por la función que obtiene los tramos adecuados. \n",
    "\n",
    "Frente a esto y la conveniencia de tramificar ya que es una variable que es susceptible de tener saltos no lineales con respecto a la variable objetivo (por ejemplo una regulación que a partir de cierto año en la UE se promueve los autos blancos) decidimos tramificar la variable de manera manual, agrupando los poco autos viejos que había en el primer tramo y tener tramos mas pequeños de ahi en adelante. \n",
    "\n",
    "Debido a que la tramificación en este caso no era una decision tan obvia y es cuestionable decidimos mantener también la variable original de manera numérica en el conjunto de datos"
   ]
  },
  {
   "attachments": {
    "image.png": {
     "image/png": "[encoded data removed]"
    }
   },
   "cell_type": "markdown",
   "id": "2b363cd7",
   "metadata": {},
   "source": [
    "![image.png](attachment:image.png)"
   ]
  },
  {
   "cell_type": "code",
   "execution_count": 156,
   "id": "5dc8fe8b",
   "metadata": {},
   "outputs": [],
   "source": [
    "silver_data['Prod. year'] = pd.to_numeric(bronze_data['Prod. year'])\n",
    "\n",
    "# Crear tramos manuales para 'Prod. year'\n",
    "manual_bins = [1943, 2000, 2004, 2008, 2012, 2016, 2020]\n",
    "manual_labels = ['1943-2000', '2001-2004', '2005-2008', '2009-2012', '2013-2016', '2017-2020']\n",
    "\n",
    "# Asignar los tramos manuales a la columna 'Prod. year'\n",
    "silver_data['Prod. year_bins'] = pd.cut(\n",
    "    silver_data['Prod. year'],\n",
    "    bins=manual_bins,\n",
    "    labels=manual_labels,\n",
    "    right=True,\n",
    "    include_lowest=True \n",
    ")\n"
   ]
  },
  {
   "cell_type": "markdown",
   "id": "1c5aba35",
   "metadata": {},
   "source": [
    "### Tratamiento de valores missings"
   ]
  },
  {
   "cell_type": "markdown",
   "id": "a8f57be3",
   "metadata": {},
   "source": [
    "Para el caso de las variables categóricas imputamos en los valores perdidos la moda de cada variable. Para el caso de las variables numéricas imputamos el promedio en cada variable. Este cambio aplica para todas las demás variables que no fuero tratadas de manera especifica en los pasos previos"
   ]
  },
  {
   "cell_type": "code",
   "execution_count": 157,
   "id": "6aa0eb1a",
   "metadata": {},
   "outputs": [],
   "source": [
    "for column in silver_data.columns:\n",
    "    if silver_data[column].dtype == 'object':  # Imputar moda para variables categóricas\n",
    "        silver_data[column].fillna(silver_data[column].mode()[0], inplace=True)\n",
    "    elif silver_data[column].dtype in ['int64', 'float64']:  # Imputar promedio para variables numéricas\n",
    "        silver_data[column].fillna(silver_data[column].mean(), inplace=True)"
   ]
  },
  {
   "cell_type": "markdown",
   "id": "530f33f6",
   "metadata": {},
   "source": [
    "## 2 - Modelización con maquina de vector soporte"
   ]
  },
  {
   "cell_type": "markdown",
   "id": "a6c606a5",
   "metadata": {},
   "source": [
    "### Valores dummies para cada variable categorica"
   ]
  },
  {
   "cell_type": "markdown",
   "id": "f241deb9",
   "metadata": {},
   "source": [
    "Para cada variable categorica de nuestro conjunto de datos creamos n-1 variables diferentes siendo n el numero total de valores diferentes de la variable categorica en cuestion. "
   ]
  },
  {
   "cell_type": "code",
   "execution_count": 158,
   "id": "381af790",
   "metadata": {},
   "outputs": [],
   "source": [
    "# 2. Crear columnas dummys para variables categóricas\n",
    "# Asegurarse de incluir todas las variables categóricas, incluidas las de tipo 'category'\n",
    "categorical_cols = ['Levy_bins', 'Prod. year_bins', 'Airbags', 'Manufacturer', 'Category', 'Fuel type', 'Drive wheels', 'Gear box type',]  # Lista de columnas categóricas\n",
    "silver_data = pd.get_dummies(silver_data, columns=categorical_cols, drop_first=True)\n"
   ]
  },
  {
   "cell_type": "markdown",
   "id": "9cb2fba8",
   "metadata": {},
   "source": [
    "### Estandarización de variables continuas"
   ]
  },
  {
   "cell_type": "markdown",
   "id": "754f4461",
   "metadata": {},
   "source": [
    "Para mejorar la capacidad explicativa de las variables continuas en las RNN es importante estandarizarlas a todas aplicándoles la misma transformación. En este caso aplicamos la estandarización a escala, es decir las variables van a ir de 0 a 1. \n",
    "\n",
    "Si bien es cierto que esta transformación es menor fiel del punto de vista explicativo a la escala original que la transformación normal decidimos aplicar esta transformación porque es mejor para los fines predictivos y los RNN, al ser modelos de caja negra, adolecen, en gran medida, de capacidad explicativa mas no de su uso predictivo"
   ]
  },
  {
   "cell_type": "code",
   "execution_count": 159,
   "id": "07436423",
   "metadata": {},
   "outputs": [],
   "source": [
    "# 3. Estandarizar variables continuas a escala [0, 1]\n",
    "scaler = MinMaxScaler()\n",
    "numerical_columns = silver_data.select_dtypes(include=['int64', 'float64']).columns\n",
    "silver_data[numerical_columns] = scaler.fit_transform(silver_data[numerical_columns])"
   ]
  },
  {
   "cell_type": "markdown",
   "id": "530f33f6",
   "metadata": {},
   "source": [
    "## 2 - Modelización con maquina de vector soporte"
   ]
  },
  {
   "cell_type": "markdown",
   "id": "4bb82075",
   "metadata": {},
   "source": [
    "Dividimos los conjuntos de datos para train y test usando una semilla de aleatoriedad prefijada"
   ]
  },
  {
   "cell_type": "code",
   "execution_count": 160,
   "id": "515bde2d",
   "metadata": {},
   "outputs": [
    {
     "name": "stdout",
     "output_type": "stream",
     "text": [
      "Variables explicativas:  ['Price', 'Prod. year', 'Leather interior', 'Engine volume', 'Mileage', 'Cylinders', 'Levy_bins_585.5 - 773.5', 'Levy_bins_773.5 - 932.0', 'Levy_bins_932.0 - 1349.0', 'Levy_bins_1349.0 - inf', 'Levy_bins_Missing', 'Prod. year_bins_2001-2004', 'Prod. year_bins_2005-2008', 'Prod. year_bins_2009-2012', 'Prod. year_bins_2013-2016', 'Prod. year_bins_2017-2020', 'Airbags_1', 'Airbags_2', 'Airbags_3', 'Airbags_4', 'Airbags_5', 'Airbags_6', 'Airbags_7', 'Airbags_8', 'Airbags_9', 'Airbags_10', 'Airbags_11', 'Airbags_12', 'Airbags_14', 'Airbags_15', 'Airbags_16', 'Manufacturer_LEXUS', 'Manufacturer_MERCEDES-BENZ', 'Manufacturer_TOYOTA', 'Category_Jeep', 'Category_Sedan', 'Fuel type_Hybrid', 'Fuel type_Petrol', 'Drive wheels_Front', 'Drive wheels_Rear', 'Gear box type_Tiptronic']\n",
      "Variable objetivo:  Color\n"
     ]
    }
   ],
   "source": [
    "Y = silver_data['Color'] \n",
    "X = silver_data.drop(columns=['Color'])\n",
    "print(\"Variables explicativas: \", list(X.columns))\n",
    "print(\"Variable objetivo: \", Y.name)\n",
    "\n",
    "SEED = 12345\n",
    "random.seed(SEED)\n",
    "np.random.seed(SEED)\n",
    "X_train, X_test, Y_train, Y_test = train_test_split(X, Y, test_size=0.25, random_state=SEED)"
   ]
  },
  {
   "cell_type": "markdown",
   "id": "8c3a1bd9",
   "metadata": {},
   "source": [
    "### Modelo SVM con kernel lineal"
   ]
  },
  {
   "cell_type": "markdown",
   "id": "368355e2",
   "metadata": {},
   "source": [
    "Usamos el modelo de maquina de vector soporte mas sencillo, el kernel lineal, el cual busca separar los conjuntos de los problemas de clasificación mediante una función lineal. Es bastante similar a un modelo de regresión lineal.\n",
    "\n",
    "Para lograr un modelo mas robusto y con poco sesgo partimos de la premisa de mantenernos con una C pequeña de manera que el modelo tenga cierta tolerancia a observaciones mal clasificadas en la frontera de la separación.\n",
    "\n",
    "Fuimos variando para encontrar el SVM lineal optimo"
   ]
  },
  {
   "cell_type": "code",
   "execution_count": 178,
   "id": "08dfabf6",
   "metadata": {},
   "outputs": [
    {
     "name": "stdout",
     "output_type": "stream",
     "text": [
      "Resultados SVM Kernel Lineal con C=0.1:\n",
      "Accuracy: 0.6497695852534562\n",
      "AUC: 0.6823523369286081\n",
      "              precision    recall  f1-score   support\n",
      "\n",
      "         0.0       0.69      0.66      0.67       590\n",
      "         1.0       0.61      0.64      0.63       495\n",
      "\n",
      "    accuracy                           0.65      1085\n",
      "   macro avg       0.65      0.65      0.65      1085\n",
      "weighted avg       0.65      0.65      0.65      1085\n",
      "\n"
     ]
    }
   ],
   "source": [
    "svm_linear = SVC(kernel='linear', C=0.1, random_state=SEED, probability=True)\n",
    "svm_linear.fit(X_train, Y_train)\n",
    "y_pred_linear = svm_linear.predict(X_test)\n",
    "y_proba_linear = svm_linear.predict_proba(X_test)[:, 1]\n",
    "\n",
    "print(\"Resultados SVM Kernel Lineal con C=0.1:\")\n",
    "print(\"Accuracy:\", accuracy_score(Y_test, y_pred_linear))\n",
    "print(\"AUC:\", roc_auc_score(Y_test, y_proba_linear))\n",
    "print(classification_report(Y_test, y_pred_linear))"
   ]
  },
  {
   "cell_type": "code",
   "execution_count": 180,
   "id": "bcdd42c2",
   "metadata": {},
   "outputs": [
    {
     "name": "stdout",
     "output_type": "stream",
     "text": [
      "Resultados SVM Kernel Lineal con C=0.5:\n",
      "Accuracy: 0.6580645161290323\n",
      "AUC: 0.6855743879472692\n",
      "              precision    recall  f1-score   support\n",
      "\n",
      "         0.0       0.69      0.67      0.68       590\n",
      "         1.0       0.62      0.65      0.63       495\n",
      "\n",
      "    accuracy                           0.66      1085\n",
      "   macro avg       0.66      0.66      0.66      1085\n",
      "weighted avg       0.66      0.66      0.66      1085\n",
      "\n"
     ]
    }
   ],
   "source": [
    "svm_linear = SVC(kernel='linear', C=0.5, random_state=SEED, probability=True)\n",
    "svm_linear.fit(X_train, Y_train)\n",
    "y_pred_linear = svm_linear.predict(X_test)\n",
    "y_proba_linear = svm_linear.predict_proba(X_test)[:, 1]\n",
    "\n",
    "print(\"Resultados SVM Kernel Lineal con C=0.5:\")\n",
    "print(\"Accuracy:\", accuracy_score(Y_test, y_pred_linear))\n",
    "print(\"AUC:\", roc_auc_score(Y_test, y_proba_linear))\n",
    "print(classification_report(Y_test, y_pred_linear))\n",
    "\n"
   ]
  },
  {
   "cell_type": "code",
   "execution_count": 179,
   "id": "35652753",
   "metadata": {},
   "outputs": [
    {
     "name": "stdout",
     "output_type": "stream",
     "text": [
      "Resultados SVM Kernel Lineal con C=2:\n",
      "Accuracy: 0.6599078341013825\n",
      "AUC: 0.6861171032357474\n",
      "              precision    recall  f1-score   support\n",
      "\n",
      "         0.0       0.69      0.68      0.68       590\n",
      "         1.0       0.62      0.64      0.63       495\n",
      "\n",
      "    accuracy                           0.66      1085\n",
      "   macro avg       0.66      0.66      0.66      1085\n",
      "weighted avg       0.66      0.66      0.66      1085\n",
      "\n"
     ]
    }
   ],
   "source": [
    "svm_linear = SVC(kernel='linear', C=2, random_state=SEED, probability=True)\n",
    "svm_linear.fit(X_train, Y_train)\n",
    "y_pred_linear = svm_linear.predict(X_test)\n",
    "y_proba_linear = svm_linear.predict_proba(X_test)[:, 1]\n",
    "\n",
    "print(\"Resultados SVM Kernel Lineal con C=2:\")\n",
    "print(\"Accuracy:\", accuracy_score(Y_test, y_pred_linear))\n",
    "print(\"AUC:\", roc_auc_score(Y_test, y_proba_linear))\n",
    "print(classification_report(Y_test, y_pred_linear))"
   ]
  },
  {
   "cell_type": "markdown",
   "id": "6f586a48",
   "metadata": {},
   "source": [
    "El mejor modelo SVM lineal es con la C es 2. Pero las mejoras son apenas perceptibles por lo que considero que no vale la pena seguirla aumentando en detrimento de la robustez del modelo. Un c pequeña siempre favorece a que el modelo tenga menor sesgo debido a que penaliza menos las observaciones mal clasificadas"
   ]
  },
  {
   "cell_type": "markdown",
   "id": "c14ba2f6",
   "metadata": {},
   "source": [
    "### SVM con kernel Polinómico"
   ]
  },
  {
   "cell_type": "markdown",
   "id": "dcd49000",
   "metadata": {},
   "source": [
    "Optamos por probar el kernel polinómico el cual intenta clasificar las observaciones mapeándolas a un plano de mayor grado y obteniendo una función polinómica de determinado grado para poder separar las observaciones .\n",
    "\n",
    "Las variantes que se pueden probar en un SVM polinómico son entonces el grado del polinomio separador y la C que tiene la misma función que en el SVM lineal, es un penalizador de las observaciones mal clasificadas. Mientras mas alta mas el modelo intenta separar las observaciones siendo menos tolerantes a observaciones mal clasificadas.\n",
    "\n",
    "Siguiendo la misma premisa de mantener la C relativamente baja para poder tener un modelo robusto y no tan sesgado probamos diferentes alternativas del svm polinómico"
   ]
  },
  {
   "cell_type": "code",
   "execution_count": null,
   "id": "35e4ad09",
   "metadata": {},
   "outputs": [
    {
     "name": "stdout",
     "output_type": "stream",
     "text": [
      "Resultados SVM Kernel Polinómico de grado 3 y con C=2:\n",
      "Accuracy: 0.687557603686636\n",
      "AUC: 0.7411573360725904\n",
      "              precision    recall  f1-score   support\n",
      "\n",
      "         0.0       0.71      0.71      0.71       590\n",
      "         1.0       0.66      0.66      0.66       495\n",
      "\n",
      "    accuracy                           0.69      1085\n",
      "   macro avg       0.69      0.69      0.69      1085\n",
      "weighted avg       0.69      0.69      0.69      1085\n",
      "\n"
     ]
    }
   ],
   "source": [
    "svm_poly = SVC(kernel='poly', degree=2, C=2, random_state=SEED, probability=True)\n",
    "svm_poly.fit(X_train, Y_train)\n",
    "y_pred_poly = svm_poly.predict(X_test)\n",
    "y_proba_poly = svm_poly.predict_proba(X_test)[:, 1]\n",
    "\n",
    "print(\"Resultados SVM Kernel Polinómico de grado 2 y con C=2:\")\n",
    "print(\"Accuracy:\", accuracy_score(Y_test, y_pred_poly))\n",
    "print(\"AUC:\", roc_auc_score(Y_test, y_proba_poly))\n",
    "print(classification_report(Y_test, y_pred_poly))"
   ]
  },
  {
   "cell_type": "code",
   "execution_count": 186,
   "id": "deb4cf38",
   "metadata": {},
   "outputs": [
    {
     "name": "stdout",
     "output_type": "stream",
     "text": [
      "Resultados SVM Kernel Polinómico de grado 2 y con C=3:\n",
      "Accuracy: 0.6894009216589861\n",
      "AUC: 0.7426656394453005\n",
      "              precision    recall  f1-score   support\n",
      "\n",
      "         0.0       0.72      0.71      0.71       590\n",
      "         1.0       0.66      0.67      0.66       495\n",
      "\n",
      "    accuracy                           0.69      1085\n",
      "   macro avg       0.69      0.69      0.69      1085\n",
      "weighted avg       0.69      0.69      0.69      1085\n",
      "\n"
     ]
    }
   ],
   "source": [
    "svm_poly = SVC(kernel='poly', degree=2, C=3, random_state=SEED, probability=True)\n",
    "svm_poly.fit(X_train, Y_train)\n",
    "y_pred_poly = svm_poly.predict(X_test)\n",
    "y_proba_poly = svm_poly.predict_proba(X_test)[:, 1]\n",
    "\n",
    "print(\"Resultados SVM Kernel Polinómico de grado 2 y con C=3:\")\n",
    "print(\"Accuracy:\", accuracy_score(Y_test, y_pred_poly))\n",
    "print(\"AUC:\", roc_auc_score(Y_test, y_proba_poly))\n",
    "print(classification_report(Y_test, y_pred_poly))"
   ]
  },
  {
   "cell_type": "code",
   "execution_count": 187,
   "id": "35de52a9",
   "metadata": {},
   "outputs": [
    {
     "name": "stdout",
     "output_type": "stream",
     "text": [
      "Resultados SVM Kernel Polinómico de grado 3 y con C=2:\n",
      "Accuracy: 0.7059907834101382\n",
      "AUC: 0.7536380756719739\n",
      "              precision    recall  f1-score   support\n",
      "\n",
      "         0.0       0.73      0.73      0.73       590\n",
      "         1.0       0.68      0.67      0.68       495\n",
      "\n",
      "    accuracy                           0.71      1085\n",
      "   macro avg       0.70      0.70      0.70      1085\n",
      "weighted avg       0.71      0.71      0.71      1085\n",
      "\n"
     ]
    }
   ],
   "source": [
    "svm_poly = SVC(kernel='poly', degree=3, C=2, random_state=SEED, probability=True)\n",
    "svm_poly.fit(X_train, Y_train)\n",
    "y_pred_poly = svm_poly.predict(X_test)\n",
    "y_proba_poly = svm_poly.predict_proba(X_test)[:, 1]\n",
    "\n",
    "print(\"Resultados SVM Kernel Polinómico de grado 3 y con C=2:\")\n",
    "print(\"Accuracy:\", accuracy_score(Y_test, y_pred_poly))\n",
    "print(\"AUC:\", roc_auc_score(Y_test, y_proba_poly))\n",
    "print(classification_report(Y_test, y_pred_poly))"
   ]
  },
  {
   "cell_type": "markdown",
   "id": "5d8ae8c4",
   "metadata": {},
   "source": [
    "Como podemos observar el SVM de grado 3 es algo superior tanto en el Area bajo de la curva ROC como también en la Precision de las predicciones"
   ]
  },
  {
   "cell_type": "markdown",
   "id": "d231c7f0",
   "metadata": {},
   "source": [
    "### Comparación de los kernels de SVM"
   ]
  },
  {
   "cell_type": "markdown",
   "id": "cb630516",
   "metadata": {},
   "source": [
    "Para poder observarlo de manera gráfica generamos un diagrama con las dos curvas AUC de los mejores configuraciones paramétricas de ambos kernels, el lineal y el polinómico"
   ]
  },
  {
   "cell_type": "code",
   "execution_count": 188,
   "id": "44862256",
   "metadata": {},
   "outputs": [
    {
     "data": {
      "image/png": "[encoded data removed]",
      "text/plain": [
       "<Figure size 800x600 with 1 Axes>"
      ]
     },
     "metadata": {},
     "output_type": "display_data"
    }
   ],
   "source": [
    "fpr_linear, tpr_linear, _ = roc_curve(Y_test, y_proba_linear)\n",
    "fpr_poly, tpr_poly, _ = roc_curve(Y_test, y_proba_poly)\n",
    "\n",
    "plt.figure(figsize=(8, 6))\n",
    "plt.plot(fpr_linear, tpr_linear, label='SVM Lineal (AUC = {:.2f})'.format(roc_auc_score(Y_test, y_proba_linear)))\n",
    "plt.plot(fpr_poly, tpr_poly, label='SVM Polinómico (AUC = {:.2f})'.format(roc_auc_score(Y_test, y_proba_poly)))\n",
    "plt.plot([0, 1], [0, 1], 'k--', label='Azar')\n",
    "plt.xlabel('Tasa de Falsos Positivos (FPR)')\n",
    "plt.ylabel('Tasa de Verdaderos Positivos (TPR)')\n",
    "plt.title('Curva ROC - Comparación de Modelos SVM')\n",
    "plt.legend(loc='lower right')\n",
    "plt.grid(True)\n",
    "plt.show()"
   ]
  },
  {
   "cell_type": "markdown",
   "id": "906bdfd2",
   "metadata": {},
   "source": [
    "Como podemos observar ambos modelos son bastante buenos siendo el SVM Polinómico superior no solo en AUC sino también en Accuracy."
   ]
  },
  {
   "cell_type": "markdown",
   "id": "c9bacded",
   "metadata": {},
   "source": [
    "### Bagging del modelo ganador"
   ]
  },
  {
   "cell_type": "markdown",
   "id": "ace9e8d2",
   "metadata": {},
   "source": [
    "Aplicando la técnica del Bagging al el modelo SVM polinómico nos aseguramos de reducir la varianza para poder tener un modelo mas robusto que se comporte de manera similar sin importar el conjunto de datos que reciba y que no este sesgado exclusivamente el conjunto de entrenamiento"
   ]
  },
  {
   "cell_type": "markdown",
   "id": "9215f1d6",
   "metadata": {},
   "source": [
    "Utilizaremos 10 modelos estimadores de kernel polinómico cada uno entrenado con diferentes conjuntos de datos(n_estimators). Cada uno de estos modelos se entrenara con el 80% de los datos (max_samples). Todos los modelos tendrán a disposición la totalidad de las características del conjunto de datos (max features). Las muestras de entrenamiento se obtienen seleccionando de manera aleatoria las observaciones permitiendo que una sea seleccionada en mas de una sesión de entrenamiento (boostrap)"
   ]
  },
  {
   "cell_type": "code",
   "execution_count": null,
   "id": "5d8c190d",
   "metadata": {},
   "outputs": [
    {
     "name": "stdout",
     "output_type": "stream",
     "text": [
      "Resultados Bagging sobre SVM Kernel Polinómico:\n",
      "Accuracy: 0.6903225806451613\n",
      "AUC: 0.7603629515493924\n",
      "              precision    recall  f1-score   support\n",
      "\n",
      "         0.0       0.71      0.74      0.72       590\n",
      "         1.0       0.67      0.63      0.65       495\n",
      "\n",
      "    accuracy                           0.69      1085\n",
      "   macro avg       0.69      0.69      0.69      1085\n",
      "weighted avg       0.69      0.69      0.69      1085\n",
      "\n"
     ]
    }
   ],
   "source": [
    "base_model = SVC(kernel='poly', probability=True, random_state=12345)\n",
    "\n",
    "bagging_model = BaggingClassifier(\n",
    "    estimator=base_model,\n",
    "    n_estimators=10,  \n",
    "    max_samples=0.8,  \n",
    "    max_features=1.0,  \n",
    "    bootstrap=True,  \n",
    "    random_state=54321 # cambie la semilla de aleatoridad para reducir el sesgo\n",
    ")\n",
    "\n",
    "bagging_model.fit(X_train, Y_train)\n",
    "\n",
    "y_pred_bagging = bagging_model.predict(X_test)\n",
    "y_proba_bagging = bagging_model.predict_proba(X_test)[:, 1]\n",
    "\n",
    "accuracy_bagging = accuracy_score(Y_test, y_pred_bagging)\n",
    "auc_bagging = roc_auc_score(Y_test, y_proba_bagging)\n",
    "report_bagging = classification_report(Y_test, y_pred_bagging)\n",
    "\n",
    "print(\"Resultados Bagging sobre SVM Kernel Polinómico:\")\n",
    "print(f\"Accuracy: {accuracy_bagging}\")\n",
    "print(f\"AUC: {auc_bagging}\")\n",
    "print(report_bagging)"
   ]
  },
  {
   "cell_type": "markdown",
   "id": "3d7ebfc2",
   "metadata": {},
   "source": [
    "El modelo obtenido es ligeramente mejor en el desempeño de el area bajo de la curva ROC y el accuracy es ligeramente inferior. Pero en ambos casos las medidas son casi idénticas el modelo SVM polinómico de grado 3 entrenado originalmente pero probablemente mas robusto antes nuevas observaciones al ser entrenado con un conjunto de datos superior y en un mayor numero de corridas"
   ]
  }
 ],
 "metadata": {
  "kernelspec": {
   "display_name": "master_ucm_machine_learning",
   "language": "python",
   "name": "python3"
  },
  "language_info": {
   "codemirror_mode": {
    "name": "ipython",
    "version": 3
   },
   "file_extension": ".py",
   "mimetype": "text/x-python",
   "name": "python",
   "nbconvert_exporter": "python",
   "pygments_lexer": "ipython3",
   "version": "3.13.3"
  }
 },
 "nbformat": 4,
 "nbformat_minor": 5
}
